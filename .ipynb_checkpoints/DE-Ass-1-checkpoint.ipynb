{
 "cells": [
  {
   "cell_type": "code",
   "execution_count": null,
   "metadata": {},
   "outputs": [],
   "source": [
    "#common techniques to deal with missing values\n",
    "#1. Drop the feature\n",
    "#2. Drop the row\n",
    "#3. Impute the missing value\n",
    "#4. Replace it"
   ]
  },
  {
   "cell_type": "code",
   "execution_count": null,
   "metadata": {},
   "outputs": [],
   "source": [
    "#Using reindexing, we have created a DataFrame with missing values"
   ]
  },
  {
   "cell_type": "code",
   "execution_count": 8,
   "metadata": {},
   "outputs": [
    {
     "name": "stdout",
     "output_type": "stream",
     "text": [
      "        one       two     three\n",
      "a -0.785252 -0.309015  0.907843\n",
      "b       NaN       NaN       NaN\n",
      "c -0.372665  1.535248 -1.552323\n",
      "d       NaN       NaN       NaN\n",
      "e -0.176991 -1.776597  0.084628\n",
      "f  1.584635  0.038229 -0.278147\n",
      "g       NaN       NaN       NaN\n",
      "h -0.122752 -1.891960 -1.095836\n"
     ]
    }
   ],
   "source": [
    "# import the pandas library\n",
    "import pandas as pd\n",
    "import numpy as np\n",
    "\n",
    "df = pd.DataFrame(np.random.randn(5, 3), index=['a', 'c', 'e', 'f','h'],columns=['one', 'two', 'three'])\n",
    "df = df.reindex(['a', 'b', 'c', 'd', 'e', 'f', 'g', 'h'])\n",
    "\n",
    "print(df)"
   ]
  },
  {
   "cell_type": "code",
   "execution_count": null,
   "metadata": {},
   "outputs": [],
   "source": [
    "#Check for Missing Values\n",
    "#To make detecting missing values easier (and across different array dtypes), \n",
    "#Pandas provides the isnull() and notnull() functions, which are also methods on Series and DataFrame objects −"
   ]
  },
  {
   "cell_type": "code",
   "execution_count": 5,
   "metadata": {},
   "outputs": [
    {
     "name": "stdout",
     "output_type": "stream",
     "text": [
      "a    False\n",
      "b     True\n",
      "c    False\n",
      "d     True\n",
      "e    False\n",
      "f    False\n",
      "g     True\n",
      "h    False\n",
      "Name: one, dtype: bool\n"
     ]
    }
   ],
   "source": [
    "print(df['one'].isnull())"
   ]
  },
  {
   "cell_type": "code",
   "execution_count": null,
   "metadata": {},
   "outputs": [],
   "source": [
    "#Cleaning / Filling Missing Data\n",
    "#Pandas provides various methods for cleaning the missing values. \n",
    "#The fillna function can “fill in” NA values with non-null data in a couple of ways\n",
    "#Replace NaN with a Scalar Value\n",
    "#replacing \"NaN\" with \"0\"."
   ]
  },
  {
   "cell_type": "code",
   "execution_count": 1,
   "metadata": {},
   "outputs": [
    {
     "name": "stdout",
     "output_type": "stream",
     "text": [
      "        one       two     three\n",
      "a -1.728423  0.843059 -0.154534\n",
      "b       NaN       NaN       NaN\n",
      "c -0.876396 -0.156221 -0.433240\n",
      "d       NaN       NaN       NaN\n",
      "e  0.593602 -0.495417 -1.864895\n",
      "f -1.082944  1.175838  1.673957\n",
      "g       NaN       NaN       NaN\n",
      "h -0.930316  0.435645  0.202359\n",
      "        one       two     three\n",
      "a -1.728423  0.843059 -0.154534\n",
      "b  0.000000  0.000000  0.000000\n",
      "c -0.876396 -0.156221 -0.433240\n",
      "d  0.000000  0.000000  0.000000\n",
      "e  0.593602 -0.495417 -1.864895\n",
      "f -1.082944  1.175838  1.673957\n",
      "g  0.000000  0.000000  0.000000\n",
      "h -0.930316  0.435645  0.202359\n"
     ]
    }
   ],
   "source": [
    "# import the pandas library\n",
    "import pandas as pd\n",
    "import numpy as np\n",
    "\n",
    "df = pd.DataFrame(np.random.randn(5, 3), index=['a', 'c', 'e', 'f','h'],columns=['one', 'two', 'three'])\n",
    "df = df.reindex(['a', 'b', 'c', 'd', 'e', 'f', 'g', 'h'])\n",
    "\n",
    "print(df)\n",
    "print(df.fillna(0))"
   ]
  },
  {
   "cell_type": "code",
   "execution_count": 6,
   "metadata": {},
   "outputs": [
    {
     "name": "stdout",
     "output_type": "stream",
     "text": [
      "        one       two     three\n",
      "a  0.899593  2.211449  0.344242\n",
      "b       NaN       NaN       NaN\n",
      "c -0.199434 -0.789019  1.713510\n",
      "NaN replaced with '0':\n",
      "        one       two     three\n",
      "a  0.899593  2.211449  0.344242\n",
      "b  0.000000  0.000000  0.000000\n",
      "c -0.199434 -0.789019  1.713510\n"
     ]
    }
   ],
   "source": [
    "import pandas as pd\n",
    "import numpy as np\n",
    "df = pd.DataFrame(np.random.randn(3, 3), index=['a', 'c', 'e'],columns=['one','two', 'three'])\n",
    "df = df.reindex(['a', 'b', 'c'])\n",
    "print(df)\n",
    "print (\"NaN replaced with '0':\")\n",
    "print(df.fillna(0))"
   ]
  },
  {
   "cell_type": "code",
   "execution_count": null,
   "metadata": {},
   "outputs": [],
   "source": [
    "#Fill NA Forward and Backward\n",
    "#Using the concepts of filling discussed in the ReIndexing Chapter we will fill the missing values.\n",
    "#pad/fill --Fill methods Forward\n",
    "#bfill/backfill--Fill methods Backward"
   ]
  },
  {
   "cell_type": "code",
   "execution_count": 2,
   "metadata": {},
   "outputs": [
    {
     "name": "stdout",
     "output_type": "stream",
     "text": [
      "Data frame before replacing\n",
      "        one       two     three\n",
      "a  1.602260  1.044530 -0.594246\n",
      "b       NaN       NaN       NaN\n",
      "c  0.229983 -0.201410 -1.965587\n",
      "d       NaN       NaN       NaN\n",
      "e -0.185311 -0.307990  0.922424\n",
      "f -0.331650  0.299070 -0.574239\n",
      "g       NaN       NaN       NaN\n",
      "h -0.494652 -0.686017 -0.813716\n",
      "Data frame after replacing\n",
      "        one       two     three\n",
      "a  1.602260  1.044530 -0.594246\n",
      "b  1.602260  1.044530 -0.594246\n",
      "c  0.229983 -0.201410 -1.965587\n",
      "d  0.229983 -0.201410 -1.965587\n",
      "e -0.185311 -0.307990  0.922424\n",
      "f -0.331650  0.299070 -0.574239\n",
      "g -0.331650  0.299070 -0.574239\n",
      "h -0.494652 -0.686017 -0.813716\n"
     ]
    }
   ],
   "source": [
    "import pandas as pd\n",
    "import numpy as np\n",
    "\n",
    "df = pd.DataFrame(np.random.randn(5, 3), index=['a', 'c', 'e', 'f','h'],columns=['one', 'two', 'three'])\n",
    "df = df.reindex(['a', 'b', 'c', 'd', 'e', 'f', 'g', 'h'])\n",
    "print(\"Data frame before replacing\")\n",
    "print(df)\n",
    "print(\"Data frame after replacing\")\n",
    "print(df.fillna(method='pad'))"
   ]
  },
  {
   "cell_type": "code",
   "execution_count": null,
   "metadata": {},
   "outputs": [],
   "source": [
    "#Drop Missing Values\n",
    "# dropna function along with the axis argument used to simply exclude the missing values.\n",
    "#By default, axis=0, i.e., along row, which means that if any value within a row is NA then the whole row is excluded."
   ]
  },
  {
   "cell_type": "code",
   "execution_count": 3,
   "metadata": {},
   "outputs": [
    {
     "name": "stdout",
     "output_type": "stream",
     "text": [
      "Data frame before replacing\n",
      "        one       two     three\n",
      "a  0.920221  0.641430 -0.874369\n",
      "b       NaN       NaN       NaN\n",
      "c  2.186056  0.435682 -1.415550\n",
      "d       NaN       NaN       NaN\n",
      "e -0.151124 -0.548430  0.266014\n",
      "f -1.452772  0.977085 -0.001316\n",
      "g       NaN       NaN       NaN\n",
      "h -0.840058  0.833498  0.148154\n",
      "Data frame after replacing\n",
      "        one       two     three\n",
      "a  0.920221  0.641430 -0.874369\n",
      "c  2.186056  0.435682 -1.415550\n",
      "e -0.151124 -0.548430  0.266014\n",
      "f -1.452772  0.977085 -0.001316\n",
      "h -0.840058  0.833498  0.148154\n"
     ]
    }
   ],
   "source": [
    "import pandas as pd\n",
    "import numpy as np\n",
    "\n",
    "df = pd.DataFrame(np.random.randn(5, 3), index=['a', 'c', 'e', 'f','h'],columns=['one', 'two', 'three'])\n",
    "\n",
    "df = df.reindex(['a', 'b', 'c', 'd', 'e', 'f', 'g', 'h'])\n",
    "print(\"Data frame before drop\")\n",
    "print(df)\n",
    "print(\"Data frame after drop\")\n",
    "print(df.dropna())"
   ]
  },
  {
   "cell_type": "code",
   "execution_count": null,
   "metadata": {},
   "outputs": [],
   "source": [
    "#Replace Missing (or) Generic Values\n",
    "#to replace a generic value with some specific valueuse replace method.\n",
    "#Replacing NA with a scalar value is equivalent behavior of the fillna() function."
   ]
  },
  {
   "cell_type": "code",
   "execution_count": 10,
   "metadata": {},
   "outputs": [
    {
     "name": "stdout",
     "output_type": "stream",
     "text": [
      "   one  two\n",
      "0   10   10\n",
      "1   20    0\n",
      "2   30   30\n",
      "3   40   40\n",
      "4   50   50\n",
      "5   60   60\n"
     ]
    }
   ],
   "source": [
    "import pandas as pd\n",
    "import numpy as np\n",
    "df = pd.DataFrame({'one':[10,20,30,40,50,2000],'two':[1000,0,30,40,50,60]})\n",
    "print(df.replace({1000:10,2000:60}))"
   ]
  },
  {
   "cell_type": "code",
   "execution_count": null,
   "metadata": {},
   "outputs": [],
   "source": [
    "#Reading Data from CSV file"
   ]
  },
  {
   "cell_type": "code",
   "execution_count": null,
   "metadata": {},
   "outputs": [],
   "source": [
    "#CSV(comma separated values) is a fundamental necessity in Data Science. \n",
    "#data from various sources which can get exported to CSV format so that they can be used by other systems. \n",
    "#The Panadas library provides features using it, read the CSV file in full as well as in parts for only a selected group of columns and rows.\n",
    "\n",
    "#Input as CSV File\n",
    "#The csv file is a text file in which the values in the columns are separated by a comma. \n",
    "#Let's consider the following data present in the file named input.csv.\n",
    "\n",
    "#create CSV file using notepad by copying and pasting data. \n",
    "#Save the file as input.csv using the save As All files(*.*) option in notepad."
   ]
  },
  {
   "cell_type": "code",
   "execution_count": null,
   "metadata": {},
   "outputs": [],
   "source": [
    "id,name,salary,start_date,dept\n",
    "1,Rick,623.3,2012-01-01,IT\n",
    "2,Dan,515.2,2013-09-23,Operations\n",
    "3,Tusar,611,2014-11-15,IT\n",
    "4,Ryan,729,2014-05-11,HR\n",
    "5,Gary,843.25,2015-03-27,Finance\n",
    "6,Rasmi,578,2013-05-21,IT\n",
    "7,Pranab,632.8,2013-07-30,Operations\n",
    "8,Guru,722.5,2014-06-17,Finance"
   ]
  },
  {
   "cell_type": "code",
   "execution_count": null,
   "metadata": {},
   "outputs": [],
   "source": [
    "#Reading a CSV File\n",
    "#The read_csv function of the pandas library is used read the content of a CSV file into the python environment as a pandas DataFrame.\n",
    "#The function can read the files from the OS by using proper path to the file."
   ]
  },
  {
   "cell_type": "code",
   "execution_count": 13,
   "metadata": {},
   "outputs": [
    {
     "ename": "SyntaxError",
     "evalue": "invalid syntax (<ipython-input-13-5157bcb788e1>, line 4)",
     "output_type": "error",
     "traceback": [
      "\u001b[1;36m  File \u001b[1;32m\"<ipython-input-13-5157bcb788e1>\"\u001b[1;36m, line \u001b[1;32m4\u001b[0m\n\u001b[1;33m    data = data.reindex([0:12])\u001b[0m\n\u001b[1;37m                          ^\u001b[0m\n\u001b[1;31mSyntaxError\u001b[0m\u001b[1;31m:\u001b[0m invalid syntax\n"
     ]
    }
   ],
   "source": [
    "import pandas as pd\n",
    "data = pd.read_csv('Dataset-example.csv')\n",
    "print (data)\n",
    "data = data.reindex([0:12])"
   ]
  },
  {
   "cell_type": "code",
   "execution_count": 11,
   "metadata": {},
   "outputs": [],
   "source": [
    "#Reading Specific Rows- Usinge read_csv()\n",
    "#The read_csv function of the pandas library can also be used to read some specific rows for a given column. \n",
    "# slice the result from the read_csv function \n",
    "# Slicing for first 5 rows for the column named salary."
   ]
  },
  {
   "cell_type": "code",
   "execution_count": 13,
   "metadata": {},
   "outputs": [
    {
     "name": "stdout",
     "output_type": "stream",
     "text": [
      "0    623.30\n",
      "1    515.20\n",
      "2    611.00\n",
      "3    729.00\n",
      "4    843.25\n",
      "Name: salary, dtype: float64\n"
     ]
    }
   ],
   "source": [
    "import pandas as pd\n",
    "data = pd.read_csv('Dataset-example.csv')\n",
    "\n",
    "# Slice the result for first 5 rows\n",
    "print (data[0:5]['salary'])"
   ]
  },
  {
   "cell_type": "code",
   "execution_count": null,
   "metadata": {},
   "outputs": [],
   "source": [
    "#Reading Specific Columns\n",
    "#The read_csv function of the pandas library can also be used to read some specific columns. \n",
    "#use the multi-axes indexing method called .loc() for this purpose.\n",
    "#display the salary and name column for all the rows."
   ]
  },
  {
   "cell_type": "code",
   "execution_count": 14,
   "metadata": {},
   "outputs": [
    {
     "name": "stdout",
     "output_type": "stream",
     "text": [
      "   salary    name\n",
      "0  623.30    Rick\n",
      "1  515.20     Dan\n",
      "2  611.00   Tusar\n",
      "3  729.00    Ryan\n",
      "4  843.25    Gary\n",
      "5  578.00   Rasmi\n",
      "6  632.80  Pranab\n",
      "7  722.50    Guru\n"
     ]
    }
   ],
   "source": [
    "import pandas as pd\n",
    "data = pd.read_csv('input.csv')\n",
    "\n",
    "# Use the multi-axes indexing funtion\n",
    "print (data.loc[:,['salary','name']])"
   ]
  },
  {
   "cell_type": "code",
   "execution_count": null,
   "metadata": {},
   "outputs": [],
   "source": [
    "#Reading Specific Columns and Rows- Usinge read_csv()\n",
    "#use the multi-axes indexing method called .loc()\n",
    "#display the salary and name column for some of the rows."
   ]
  },
  {
   "cell_type": "code",
   "execution_count": 15,
   "metadata": {},
   "outputs": [
    {
     "name": "stdout",
     "output_type": "stream",
     "text": [
      "   salary   name\n",
      "1   515.2    Dan\n",
      "3   729.0   Ryan\n",
      "5   578.0  Rasmi\n"
     ]
    }
   ],
   "source": [
    "import pandas as pd\n",
    "data = pd.read_csv('input.csv')\n",
    "\n",
    "# Use the multi-axes indexing funtion\n",
    "print (data.loc[[1,3,5],['salary','name']])"
   ]
  },
  {
   "cell_type": "code",
   "execution_count": null,
   "metadata": {},
   "outputs": [],
   "source": [
    "#Reading Specific Columns for a Range of Rows- Usinge read_csv()\n",
    "# use the multi-axes indexing method called .loc()  \n",
    "#display the salary and name column for some of the rows."
   ]
  },
  {
   "cell_type": "code",
   "execution_count": 18,
   "metadata": {},
   "outputs": [
    {
     "name": "stdout",
     "output_type": "stream",
     "text": [
      "   salary    name\n",
      "2  611.00   Tusar\n",
      "3  729.00    Ryan\n",
      "4  843.25    Gary\n",
      "5  578.00   Rasmi\n",
      "6  632.80  Pranab\n"
     ]
    }
   ],
   "source": [
    "import pandas as pd\n",
    "data = pd.read_csv('input.csv')\n",
    "\n",
    "# Use the multi-axes indexing funtion\n",
    "print (data.loc[2:6,['salary','name']])"
   ]
  },
  {
   "cell_type": "code",
   "execution_count": 19,
   "metadata": {},
   "outputs": [
    {
     "data": {
      "text/html": [
       "<div>\n",
       "<style scoped>\n",
       "    .dataframe tbody tr th:only-of-type {\n",
       "        vertical-align: middle;\n",
       "    }\n",
       "\n",
       "    .dataframe tbody tr th {\n",
       "        vertical-align: top;\n",
       "    }\n",
       "\n",
       "    .dataframe thead th {\n",
       "        text-align: right;\n",
       "    }\n",
       "</style>\n",
       "<table border=\"1\" class=\"dataframe\">\n",
       "  <thead>\n",
       "    <tr style=\"text-align: right;\">\n",
       "      <th></th>\n",
       "      <th>id</th>\n",
       "      <th>name</th>\n",
       "      <th>salary</th>\n",
       "      <th>start_date</th>\n",
       "      <th>dept</th>\n",
       "    </tr>\n",
       "  </thead>\n",
       "  <tbody>\n",
       "    <tr>\n",
       "      <th>0</th>\n",
       "      <td>1</td>\n",
       "      <td>Rick</td>\n",
       "      <td>623.30</td>\n",
       "      <td>2012-01-01</td>\n",
       "      <td>IT</td>\n",
       "    </tr>\n",
       "    <tr>\n",
       "      <th>1</th>\n",
       "      <td>2</td>\n",
       "      <td>Dan</td>\n",
       "      <td>515.20</td>\n",
       "      <td>2013-09-23</td>\n",
       "      <td>Operations</td>\n",
       "    </tr>\n",
       "    <tr>\n",
       "      <th>2</th>\n",
       "      <td>3</td>\n",
       "      <td>Tusar</td>\n",
       "      <td>611.00</td>\n",
       "      <td>2014-11-15</td>\n",
       "      <td>IT</td>\n",
       "    </tr>\n",
       "    <tr>\n",
       "      <th>3</th>\n",
       "      <td>4</td>\n",
       "      <td>Ryan</td>\n",
       "      <td>729.00</td>\n",
       "      <td>2014-05-11</td>\n",
       "      <td>HR</td>\n",
       "    </tr>\n",
       "    <tr>\n",
       "      <th>4</th>\n",
       "      <td>5</td>\n",
       "      <td>Gary</td>\n",
       "      <td>843.25</td>\n",
       "      <td>2015-03-27</td>\n",
       "      <td>Finance</td>\n",
       "    </tr>\n",
       "  </tbody>\n",
       "</table>\n",
       "</div>"
      ],
      "text/plain": [
       "   id   name  salary  start_date        dept\n",
       "0   1   Rick  623.30  2012-01-01          IT\n",
       "1   2    Dan  515.20  2013-09-23  Operations\n",
       "2   3  Tusar  611.00  2014-11-15          IT\n",
       "3   4   Ryan  729.00  2014-05-11          HR\n",
       "4   5   Gary  843.25  2015-03-27     Finance"
      ]
     },
     "execution_count": 19,
     "metadata": {},
     "output_type": "execute_result"
    }
   ],
   "source": [
    "#displaying the first five rows of dataset \n",
    "data = pd.read_csv('input.csv')\n",
    "data.head()"
   ]
  },
  {
   "cell_type": "code",
   "execution_count": 20,
   "metadata": {},
   "outputs": [
    {
     "data": {
      "text/html": [
       "<div>\n",
       "<style scoped>\n",
       "    .dataframe tbody tr th:only-of-type {\n",
       "        vertical-align: middle;\n",
       "    }\n",
       "\n",
       "    .dataframe tbody tr th {\n",
       "        vertical-align: top;\n",
       "    }\n",
       "\n",
       "    .dataframe thead th {\n",
       "        text-align: right;\n",
       "    }\n",
       "</style>\n",
       "<table border=\"1\" class=\"dataframe\">\n",
       "  <thead>\n",
       "    <tr style=\"text-align: right;\">\n",
       "      <th></th>\n",
       "      <th>id</th>\n",
       "      <th>name</th>\n",
       "      <th>salary</th>\n",
       "      <th>start_date</th>\n",
       "      <th>dept</th>\n",
       "    </tr>\n",
       "  </thead>\n",
       "  <tbody>\n",
       "    <tr>\n",
       "      <th>3</th>\n",
       "      <td>4</td>\n",
       "      <td>Ryan</td>\n",
       "      <td>729.00</td>\n",
       "      <td>2014-05-11</td>\n",
       "      <td>HR</td>\n",
       "    </tr>\n",
       "    <tr>\n",
       "      <th>4</th>\n",
       "      <td>5</td>\n",
       "      <td>Gary</td>\n",
       "      <td>843.25</td>\n",
       "      <td>2015-03-27</td>\n",
       "      <td>Finance</td>\n",
       "    </tr>\n",
       "    <tr>\n",
       "      <th>5</th>\n",
       "      <td>6</td>\n",
       "      <td>Rasmi</td>\n",
       "      <td>578.00</td>\n",
       "      <td>2013-05-21</td>\n",
       "      <td>IT</td>\n",
       "    </tr>\n",
       "    <tr>\n",
       "      <th>6</th>\n",
       "      <td>7</td>\n",
       "      <td>Pranab</td>\n",
       "      <td>632.80</td>\n",
       "      <td>2013-07-30</td>\n",
       "      <td>Operations</td>\n",
       "    </tr>\n",
       "    <tr>\n",
       "      <th>7</th>\n",
       "      <td>8</td>\n",
       "      <td>Guru</td>\n",
       "      <td>722.50</td>\n",
       "      <td>2014-06-17</td>\n",
       "      <td>Finance</td>\n",
       "    </tr>\n",
       "  </tbody>\n",
       "</table>\n",
       "</div>"
      ],
      "text/plain": [
       "   id    name  salary  start_date        dept\n",
       "3   4    Ryan  729.00  2014-05-11          HR\n",
       "4   5    Gary  843.25  2015-03-27     Finance\n",
       "5   6   Rasmi  578.00  2013-05-21          IT\n",
       "6   7  Pranab  632.80  2013-07-30  Operations\n",
       "7   8    Guru  722.50  2014-06-17     Finance"
      ]
     },
     "execution_count": 20,
     "metadata": {},
     "output_type": "execute_result"
    }
   ],
   "source": [
    "#displayinf last five rows of dataset\n",
    "data.tail()"
   ]
  },
  {
   "cell_type": "code",
   "execution_count": 21,
   "metadata": {},
   "outputs": [
    {
     "name": "stdout",
     "output_type": "stream",
     "text": [
      "<class 'pandas.core.frame.DataFrame'>\n",
      "RangeIndex: 8 entries, 0 to 7\n",
      "Data columns (total 5 columns):\n",
      " #   Column      Non-Null Count  Dtype  \n",
      "---  ------      --------------  -----  \n",
      " 0   id          8 non-null      int64  \n",
      " 1   name        8 non-null      object \n",
      " 2   salary      8 non-null      float64\n",
      " 3   start_date  8 non-null      object \n",
      " 4   dept        8 non-null      object \n",
      "dtypes: float64(1), int64(1), object(3)\n",
      "memory usage: 448.0+ bytes\n"
     ]
    }
   ],
   "source": [
    "data.info()"
   ]
  },
  {
   "cell_type": "code",
   "execution_count": 30,
   "metadata": {},
   "outputs": [
    {
     "data": {
      "text/plain": [
       "(8, 5)"
      ]
     },
     "execution_count": 30,
     "metadata": {},
     "output_type": "execute_result"
    }
   ],
   "source": [
    "data.shape"
   ]
  },
  {
   "cell_type": "code",
   "execution_count": null,
   "metadata": {},
   "outputs": [],
   "source": [
    "#Rebuild Missing Data\n",
    "\n",
    "#To find and fill the missing data in the dataset \n",
    "#There are 4 ways to find the null values if present in the dataset. "
   ]
  },
  {
   "cell_type": "code",
   "execution_count": 22,
   "metadata": {},
   "outputs": [
    {
     "data": {
      "text/html": [
       "<div>\n",
       "<style scoped>\n",
       "    .dataframe tbody tr th:only-of-type {\n",
       "        vertical-align: middle;\n",
       "    }\n",
       "\n",
       "    .dataframe tbody tr th {\n",
       "        vertical-align: top;\n",
       "    }\n",
       "\n",
       "    .dataframe thead th {\n",
       "        text-align: right;\n",
       "    }\n",
       "</style>\n",
       "<table border=\"1\" class=\"dataframe\">\n",
       "  <thead>\n",
       "    <tr style=\"text-align: right;\">\n",
       "      <th></th>\n",
       "      <th>id</th>\n",
       "      <th>name</th>\n",
       "      <th>salary</th>\n",
       "      <th>start_date</th>\n",
       "      <th>dept</th>\n",
       "    </tr>\n",
       "  </thead>\n",
       "  <tbody>\n",
       "    <tr>\n",
       "      <th>0</th>\n",
       "      <td>False</td>\n",
       "      <td>False</td>\n",
       "      <td>False</td>\n",
       "      <td>False</td>\n",
       "      <td>False</td>\n",
       "    </tr>\n",
       "    <tr>\n",
       "      <th>1</th>\n",
       "      <td>False</td>\n",
       "      <td>False</td>\n",
       "      <td>False</td>\n",
       "      <td>False</td>\n",
       "      <td>False</td>\n",
       "    </tr>\n",
       "    <tr>\n",
       "      <th>2</th>\n",
       "      <td>False</td>\n",
       "      <td>False</td>\n",
       "      <td>False</td>\n",
       "      <td>False</td>\n",
       "      <td>False</td>\n",
       "    </tr>\n",
       "    <tr>\n",
       "      <th>3</th>\n",
       "      <td>False</td>\n",
       "      <td>False</td>\n",
       "      <td>False</td>\n",
       "      <td>False</td>\n",
       "      <td>False</td>\n",
       "    </tr>\n",
       "    <tr>\n",
       "      <th>4</th>\n",
       "      <td>False</td>\n",
       "      <td>False</td>\n",
       "      <td>False</td>\n",
       "      <td>False</td>\n",
       "      <td>False</td>\n",
       "    </tr>\n",
       "    <tr>\n",
       "      <th>5</th>\n",
       "      <td>False</td>\n",
       "      <td>False</td>\n",
       "      <td>False</td>\n",
       "      <td>False</td>\n",
       "      <td>False</td>\n",
       "    </tr>\n",
       "    <tr>\n",
       "      <th>6</th>\n",
       "      <td>False</td>\n",
       "      <td>False</td>\n",
       "      <td>False</td>\n",
       "      <td>False</td>\n",
       "      <td>False</td>\n",
       "    </tr>\n",
       "    <tr>\n",
       "      <th>7</th>\n",
       "      <td>False</td>\n",
       "      <td>False</td>\n",
       "      <td>False</td>\n",
       "      <td>False</td>\n",
       "      <td>False</td>\n",
       "    </tr>\n",
       "  </tbody>\n",
       "</table>\n",
       "</div>"
      ],
      "text/plain": [
       "      id   name  salary  start_date   dept\n",
       "0  False  False   False       False  False\n",
       "1  False  False   False       False  False\n",
       "2  False  False   False       False  False\n",
       "3  False  False   False       False  False\n",
       "4  False  False   False       False  False\n",
       "5  False  False   False       False  False\n",
       "6  False  False   False       False  False\n",
       "7  False  False   False       False  False"
      ]
     },
     "execution_count": 22,
     "metadata": {},
     "output_type": "execute_result"
    }
   ],
   "source": [
    "# Using isnull()- provides the boolean value for the complete dataset to know if any null value is present or not.\n",
    "data.isnull()"
   ]
  },
  {
   "cell_type": "code",
   "execution_count": 23,
   "metadata": {},
   "outputs": [
    {
     "data": {
      "text/html": [
       "<div>\n",
       "<style scoped>\n",
       "    .dataframe tbody tr th:only-of-type {\n",
       "        vertical-align: middle;\n",
       "    }\n",
       "\n",
       "    .dataframe tbody tr th {\n",
       "        vertical-align: top;\n",
       "    }\n",
       "\n",
       "    .dataframe thead th {\n",
       "        text-align: right;\n",
       "    }\n",
       "</style>\n",
       "<table border=\"1\" class=\"dataframe\">\n",
       "  <thead>\n",
       "    <tr style=\"text-align: right;\">\n",
       "      <th></th>\n",
       "      <th>id</th>\n",
       "      <th>name</th>\n",
       "      <th>salary</th>\n",
       "      <th>start_date</th>\n",
       "      <th>dept</th>\n",
       "    </tr>\n",
       "  </thead>\n",
       "  <tbody>\n",
       "    <tr>\n",
       "      <th>0</th>\n",
       "      <td>False</td>\n",
       "      <td>False</td>\n",
       "      <td>False</td>\n",
       "      <td>False</td>\n",
       "      <td>False</td>\n",
       "    </tr>\n",
       "    <tr>\n",
       "      <th>1</th>\n",
       "      <td>False</td>\n",
       "      <td>False</td>\n",
       "      <td>False</td>\n",
       "      <td>False</td>\n",
       "      <td>False</td>\n",
       "    </tr>\n",
       "    <tr>\n",
       "      <th>2</th>\n",
       "      <td>False</td>\n",
       "      <td>False</td>\n",
       "      <td>False</td>\n",
       "      <td>False</td>\n",
       "      <td>False</td>\n",
       "    </tr>\n",
       "    <tr>\n",
       "      <th>3</th>\n",
       "      <td>False</td>\n",
       "      <td>False</td>\n",
       "      <td>False</td>\n",
       "      <td>False</td>\n",
       "      <td>False</td>\n",
       "    </tr>\n",
       "    <tr>\n",
       "      <th>4</th>\n",
       "      <td>False</td>\n",
       "      <td>False</td>\n",
       "      <td>False</td>\n",
       "      <td>False</td>\n",
       "      <td>False</td>\n",
       "    </tr>\n",
       "    <tr>\n",
       "      <th>5</th>\n",
       "      <td>False</td>\n",
       "      <td>False</td>\n",
       "      <td>False</td>\n",
       "      <td>False</td>\n",
       "      <td>False</td>\n",
       "    </tr>\n",
       "    <tr>\n",
       "      <th>6</th>\n",
       "      <td>False</td>\n",
       "      <td>False</td>\n",
       "      <td>False</td>\n",
       "      <td>False</td>\n",
       "      <td>False</td>\n",
       "    </tr>\n",
       "    <tr>\n",
       "      <th>7</th>\n",
       "      <td>False</td>\n",
       "      <td>False</td>\n",
       "      <td>False</td>\n",
       "      <td>False</td>\n",
       "      <td>False</td>\n",
       "    </tr>\n",
       "  </tbody>\n",
       "</table>\n",
       "</div>"
      ],
      "text/plain": [
       "      id   name  salary  start_date   dept\n",
       "0  False  False   False       False  False\n",
       "1  False  False   False       False  False\n",
       "2  False  False   False       False  False\n",
       "3  False  False   False       False  False\n",
       "4  False  False   False       False  False\n",
       "5  False  False   False       False  False\n",
       "6  False  False   False       False  False\n",
       "7  False  False   False       False  False"
      ]
     },
     "execution_count": 23,
     "metadata": {},
     "output_type": "execute_result"
    }
   ],
   "source": [
    "#Using isna()- same as the isnull() function, provides the same output\n",
    "data.isna()"
   ]
  },
  {
   "cell_type": "code",
   "execution_count": 24,
   "metadata": {},
   "outputs": [
    {
     "data": {
      "text/plain": [
       "id            False\n",
       "name          False\n",
       "salary        False\n",
       "start_date    False\n",
       "dept          False\n",
       "dtype: bool"
      ]
     },
     "execution_count": 24,
     "metadata": {},
     "output_type": "execute_result"
    }
   ],
   "source": [
    "#Using isna().any()- gives a boolean value if any null value is present or not, \n",
    "#but it gives results column-wise, not in tabular format.\n",
    "data.isna().any()\n",
    "\n"
   ]
  },
  {
   "cell_type": "code",
   "execution_count": 16,
   "metadata": {},
   "outputs": [
    {
     "data": {
      "text/plain": [
       "one      True\n",
       "two      True\n",
       "three    True\n",
       "dtype: bool"
      ]
     },
     "execution_count": 16,
     "metadata": {},
     "output_type": "execute_result"
    }
   ],
   "source": [
    "df = pd.DataFrame(np.random.randn(5, 3), index=['a', 'c', 'e', 'f','h'],columns=['one', 'two', 'three'])\n",
    "df = df.reindex(['a', 'b', 'c', 'd', 'e', 'f', 'g', 'h'])\n",
    "df.isna().any()"
   ]
  },
  {
   "cell_type": "code",
   "execution_count": 25,
   "metadata": {},
   "outputs": [
    {
     "data": {
      "text/plain": [
       "id            0\n",
       "name          0\n",
       "salary        0\n",
       "start_date    0\n",
       "dept          0\n",
       "dtype: int64"
      ]
     },
     "execution_count": 25,
     "metadata": {},
     "output_type": "execute_result"
    }
   ],
   "source": [
    "#Using isna().sum() - gives the sum of the null values preset in the dataset column-wise.\n",
    "data.isna().sum()"
   ]
  },
  {
   "cell_type": "code",
   "execution_count": 26,
   "metadata": {},
   "outputs": [
    {
     "data": {
      "text/plain": [
       "one      3\n",
       "two      3\n",
       "three    3\n",
       "dtype: int64"
      ]
     },
     "execution_count": 26,
     "metadata": {},
     "output_type": "execute_result"
    }
   ],
   "source": [
    "df.isna().sum()"
   ]
  },
  {
   "cell_type": "code",
   "execution_count": 27,
   "metadata": {},
   "outputs": [
    {
     "data": {
      "text/plain": [
       "0"
      ]
     },
     "execution_count": 27,
     "metadata": {},
     "output_type": "execute_result"
    }
   ],
   "source": [
    "#Using isna().any().sum()- gives output in a single value if any null is present or not.\n",
    "data.isna().any().sum()"
   ]
  },
  {
   "cell_type": "code",
   "execution_count": 28,
   "metadata": {},
   "outputs": [
    {
     "data": {
      "text/plain": [
       "3"
      ]
     },
     "execution_count": 28,
     "metadata": {},
     "output_type": "execute_result"
    }
   ],
   "source": [
    "df.isna().any().sum()"
   ]
  },
  {
   "cell_type": "code",
   "execution_count": null,
   "metadata": {},
   "outputs": [],
   "source": [
    "#separate the numeric columns from the categorical columns"
   ]
  },
  {
   "cell_type": "code",
   "execution_count": 29,
   "metadata": {},
   "outputs": [
    {
     "name": "stdout",
     "output_type": "stream",
     "text": [
      "   id    name  salary  start_date        dept\n",
      "0   1    Rick  623.30  2012-01-01          IT\n",
      "1   2     Dan  515.20  2013-09-23  Operations\n",
      "2   3   Tusar  611.00  2014-11-15          IT\n",
      "3   4    Ryan  729.00  2014-05-11          HR\n",
      "4   5    Gary  843.25  2015-03-27     Finance\n",
      "5   6   Rasmi  578.00  2013-05-21          IT\n",
      "6   7  Pranab  632.80  2013-07-30  Operations\n",
      "7   8    Guru  722.50  2014-06-17     Finance\n"
     ]
    }
   ],
   "source": [
    "print(data)"
   ]
  },
  {
   "cell_type": "code",
   "execution_count": 28,
   "metadata": {},
   "outputs": [],
   "source": [
    "# select numerical columns\n",
    "data_numeric = data.select_dtypes(include=[np.number])\n",
    "numeric_cols = data_numeric.columns.values\n",
    "# select non-numeric columns\n",
    "data_non_numeric = data.select_dtypes(exclude=[np.number])\n",
    "non_numeric_cols = data_non_numeric.columns.values"
   ]
  },
  {
   "cell_type": "code",
   "execution_count": 31,
   "metadata": {},
   "outputs": [
    {
     "name": "stdout",
     "output_type": "stream",
     "text": [
      "     name  salary  start_date        dept\n",
      "0    Rick  623.30  2012-01-01          IT\n",
      "1     Dan  515.20  2013-09-23  Operations\n",
      "2   Tusar  611.00  2014-11-15          IT\n",
      "3    Ryan  729.00  2014-05-11          HR\n",
      "4    Gary  843.25  2015-03-27     Finance\n",
      "5   Rasmi  578.00  2013-05-21          IT\n",
      "6  Pranab  632.80  2013-07-30  Operations\n",
      "7    Guru  722.50  2014-06-17     Finance\n"
     ]
    }
   ],
   "source": [
    "#Dropping feature\n",
    "#Dropping feature usually isn’t recommended because you’re losing information. \n",
    "#But column isn’t important or simply has too many missing values,drop them. \n",
    "#To drop features, use drop and set axis to 1 and inplace to true. \n",
    "#Axis is 1 because we want to drop columns (0 means row), inplace is because transforming it dataset.\n",
    "\n",
    "# Drop unnecessary columns that are not important\n",
    "\n",
    "data1 = pd.read_csv('input.csv')\n",
    "col_Drop = ['id']\n",
    "data1.drop(col_Drop, axis=1, inplace=True)\n",
    "\n",
    "print(data1)"
   ]
  },
  {
   "cell_type": "code",
   "execution_count": 30,
   "metadata": {},
   "outputs": [
    {
     "name": "stdout",
     "output_type": "stream",
     "text": [
      "   id    name  salary  start_date        dept\n",
      "0   1    Rick  623.30  2012-01-01          IT\n",
      "1   2     Dan  515.20  2013-09-23  Operations\n",
      "2   3   Tusar  611.00  2014-11-15          IT\n",
      "3   4    Ryan  729.00  2014-05-11          HR\n",
      "4   5    Gary  843.25  2015-03-27     Finance\n",
      "5   6   Rasmi  578.00  2013-05-21          IT\n",
      "6   7  Pranab  632.80  2013-07-30  Operations\n",
      "7   8    Guru  722.50  2014-06-17     Finance\n"
     ]
    }
   ],
   "source": [
    "#Dropping the row\n",
    "#to remove rows use dropna\n",
    "data1 = pd.read_csv('input.csv')\n",
    "data1['salary'].dropna(inplace=True)\n",
    "print(data1)"
   ]
  },
  {
   "cell_type": "code",
   "execution_count": null,
   "metadata": {},
   "outputs": [],
   "source": [
    "#Imputing-3 main techniques s\n",
    "#fillna — filling in null values based on given value (mean, median, mode, or specified value)\n",
    "#bfill / ffill — stands for backward fill and forward fill (filling in missing values based on the value after or before the column.)\n",
    "#Simple Imputer — Sk-learn’s built-in function that imputes missing values (commonly used alongside a pipeline when building ML models)"
   ]
  },
  {
   "cell_type": "code",
   "execution_count": 34,
   "metadata": {},
   "outputs": [
    {
     "data": {
      "text/html": [
       "<div>\n",
       "<style scoped>\n",
       "    .dataframe tbody tr th:only-of-type {\n",
       "        vertical-align: middle;\n",
       "    }\n",
       "\n",
       "    .dataframe tbody tr th {\n",
       "        vertical-align: top;\n",
       "    }\n",
       "\n",
       "    .dataframe thead th {\n",
       "        text-align: right;\n",
       "    }\n",
       "</style>\n",
       "<table border=\"1\" class=\"dataframe\">\n",
       "  <thead>\n",
       "    <tr style=\"text-align: right;\">\n",
       "      <th></th>\n",
       "      <th>id</th>\n",
       "      <th>name</th>\n",
       "      <th>salary</th>\n",
       "      <th>start_date</th>\n",
       "      <th>dept</th>\n",
       "    </tr>\n",
       "  </thead>\n",
       "  <tbody>\n",
       "    <tr>\n",
       "      <th>0</th>\n",
       "      <td>1</td>\n",
       "      <td>Rick</td>\n",
       "      <td>623.30</td>\n",
       "      <td>2012-01-01</td>\n",
       "      <td>IT</td>\n",
       "    </tr>\n",
       "    <tr>\n",
       "      <th>1</th>\n",
       "      <td>2</td>\n",
       "      <td>Dan</td>\n",
       "      <td>515.20</td>\n",
       "      <td>2013-09-23</td>\n",
       "      <td>Operations</td>\n",
       "    </tr>\n",
       "    <tr>\n",
       "      <th>2</th>\n",
       "      <td>3</td>\n",
       "      <td>Tusar</td>\n",
       "      <td>611.00</td>\n",
       "      <td>2014-11-15</td>\n",
       "      <td>IT</td>\n",
       "    </tr>\n",
       "    <tr>\n",
       "      <th>3</th>\n",
       "      <td>4</td>\n",
       "      <td>Ryan</td>\n",
       "      <td>729.00</td>\n",
       "      <td>2014-05-11</td>\n",
       "      <td>HR</td>\n",
       "    </tr>\n",
       "    <tr>\n",
       "      <th>4</th>\n",
       "      <td>5</td>\n",
       "      <td>Gary</td>\n",
       "      <td>843.25</td>\n",
       "      <td>2015-03-27</td>\n",
       "      <td>Finance</td>\n",
       "    </tr>\n",
       "    <tr>\n",
       "      <th>5</th>\n",
       "      <td>6</td>\n",
       "      <td>Rasmi</td>\n",
       "      <td>578.00</td>\n",
       "      <td>2013-05-21</td>\n",
       "      <td>IT</td>\n",
       "    </tr>\n",
       "    <tr>\n",
       "      <th>6</th>\n",
       "      <td>7</td>\n",
       "      <td>Pranab</td>\n",
       "      <td>632.80</td>\n",
       "      <td>2013-07-30</td>\n",
       "      <td>Operations</td>\n",
       "    </tr>\n",
       "    <tr>\n",
       "      <th>7</th>\n",
       "      <td>8</td>\n",
       "      <td>Guru</td>\n",
       "      <td>722.50</td>\n",
       "      <td>2014-06-17</td>\n",
       "      <td>Finance</td>\n",
       "    </tr>\n",
       "  </tbody>\n",
       "</table>\n",
       "</div>"
      ],
      "text/plain": [
       "   id    name  salary  start_date        dept\n",
       "0   1    Rick  623.30  2012-01-01          IT\n",
       "1   2     Dan  515.20  2013-09-23  Operations\n",
       "2   3   Tusar  611.00  2014-11-15          IT\n",
       "3   4    Ryan  729.00  2014-05-11          HR\n",
       "4   5    Gary  843.25  2015-03-27     Finance\n",
       "5   6   Rasmi  578.00  2013-05-21          IT\n",
       "6   7  Pranab  632.80  2013-07-30  Operations\n",
       "7   8    Guru  722.50  2014-06-17     Finance"
      ]
     },
     "execution_count": 34,
     "metadata": {},
     "output_type": "execute_result"
    }
   ],
   "source": [
    "#any null values preset, fill those places with any other value using the fillna() function of DataFrame.\n",
    "#It will fill NA/NaN or 0 values in place of null spaces.\n",
    "data.fillna(value=0, method=None, axis=None, inplace=False, limit=None, downcast=None)"
   ]
  },
  {
   "cell_type": "code",
   "execution_count": 36,
   "metadata": {},
   "outputs": [
    {
     "name": "stdout",
     "output_type": "stream",
     "text": [
      "   id    name  salary  start_date        dept\n",
      "0   1    Rick  623.30  2012-01-01          IT\n",
      "1   2     Dan  515.20  2013-09-23  Operations\n",
      "2   3   Tusar  611.00  2014-11-15          IT\n",
      "3   4    Ryan  729.00  2014-05-11          HR\n",
      "4   5    Gary  843.25  2015-03-27     Finance\n",
      "5   6   Rasmi  578.00  2013-05-21          IT\n",
      "6   7  Pranab  632.80  2013-07-30  Operations\n",
      "7   8    Guru  722.50  2014-06-17     Finance\n"
     ]
    }
   ],
   "source": [
    "# imputing slary with mean\n",
    "salary_mean_value = round(data['salary'].mean(), 2)\n",
    "data['salary'].fillna(salary_mean_value, inplace=True)\n",
    "\n",
    "# imputing price with median\n",
    "salary_median_value = round(data['salary'].median(), 2)\n",
    "data['salary'].fillna(salary_median_value, inplace=True)\n",
    "\n",
    "print(data)"
   ]
  },
  {
   "cell_type": "code",
   "execution_count": 32,
   "metadata": {},
   "outputs": [
    {
     "name": "stdout",
     "output_type": "stream",
     "text": [
      "        one       two     three\n",
      "a  0.473533  1.371196 -0.525459\n",
      "b       NaN       NaN       NaN\n",
      "c -0.062392 -1.509855 -1.522624\n",
      "d       NaN       NaN       NaN\n",
      "e  0.346443 -1.245657 -1.561010\n",
      "f  1.362842  0.216112  0.912254\n",
      "g       NaN       NaN       NaN\n",
      "h -0.031909  0.629039  0.013886\n",
      "Using mean\n",
      "        one       two     three\n",
      "a  0.473533  1.371196 -0.525459\n",
      "b  0.420000       NaN       NaN\n",
      "c -0.062392 -1.509855 -1.522624\n",
      "d  0.420000       NaN       NaN\n",
      "e  0.346443 -1.245657 -1.561010\n",
      "f  1.362842  0.216112  0.912254\n",
      "g  0.420000       NaN       NaN\n",
      "h -0.031909  0.629039  0.013886\n",
      "Using median\n",
      "        one       two     three\n",
      "a  0.473533  1.371196 -0.525459\n",
      "b  0.420000       NaN       NaN\n",
      "c -0.062392 -1.509855 -1.522624\n",
      "d  0.420000       NaN       NaN\n",
      "e  0.346443 -1.245657 -1.561010\n",
      "f  1.362842  0.216112  0.912254\n",
      "g  0.420000       NaN       NaN\n",
      "h -0.031909  0.629039  0.013886\n"
     ]
    }
   ],
   "source": [
    "df = pd.DataFrame(np.random.randn(5, 3), index=['a', 'c', 'e', 'f','h'],columns=['one', 'two', 'three'])\n",
    "df = df.reindex(['a', 'b', 'c', 'd', 'e', 'f', 'g', 'h'])\n",
    "print(df)\n",
    "mean_value = round(df['one'].mean(), 2)\n",
    "df['one'].fillna(mean_value, inplace=True)\n",
    "print(\"Using mean\")\n",
    "print(df)\n",
    "\n",
    "# imputing price with median\n",
    "median_value = round(df['one'].median(), 2)\n",
    "df['one'].fillna(median_value, inplace=True)\n",
    "print(\"Using median\")\n",
    "print(df)"
   ]
  },
  {
   "cell_type": "code",
   "execution_count": 37,
   "metadata": {},
   "outputs": [
    {
     "name": "stdout",
     "output_type": "stream",
     "text": [
      "   id    name  salary  start_date        dept\n",
      "0   1    Rick  623.30  2012-01-01          IT\n",
      "1   2     Dan  515.20  2013-09-23  Operations\n",
      "2   3   Tusar  611.00  2014-11-15          IT\n",
      "3   4    Ryan  729.00  2014-05-11          HR\n",
      "4   5    Gary  843.25  2015-03-27     Finance\n",
      "5   6   Rasmi  578.00  2013-05-21          IT\n",
      "6   7  Pranab  632.80  2013-07-30  Operations\n",
      "7   8    Guru  722.50  2014-06-17     Finance\n"
     ]
    }
   ],
   "source": [
    "# imputing with bfill or ffill\n",
    "data['salary'].bfill(inplace=True)\n",
    "data['salary'].ffill(inplace=True)\n",
    "print(data)"
   ]
  },
  {
   "cell_type": "code",
   "execution_count": 8,
   "metadata": {},
   "outputs": [
    {
     "name": "stdout",
     "output_type": "stream",
     "text": [
      "        one       two     three\n",
      "a  2.294717 -0.080810  0.841469\n",
      "b       NaN       NaN       NaN\n",
      "c  0.095321  0.711097  0.303906\n",
      "d       NaN       NaN       NaN\n",
      "e  0.311389 -1.384007  0.604591\n",
      "f -0.110898  0.471896 -0.918258\n",
      "g       NaN       NaN       NaN\n",
      "h -0.383113 -0.704146  0.538788\n",
      "        one       two     three\n",
      "a  2.294717 -0.080810  0.841469\n",
      "b  0.441483       NaN       NaN\n",
      "c  0.095321  0.711097  0.303906\n",
      "d  0.441483       NaN       NaN\n",
      "e  0.311389 -1.384007  0.604591\n",
      "f -0.110898  0.471896 -0.918258\n",
      "g  0.441483       NaN       NaN\n",
      "h -0.383113 -0.704146  0.538788\n"
     ]
    }
   ],
   "source": [
    "import pandas as pd\n",
    "import numpy as np\n",
    "# imputing with SimpleImputor from the sklearn library\n",
    "from sklearn.impute import SimpleImputer\n",
    "\n",
    "df = pd.DataFrame(np.random.randn(5, 3), index=['a', 'c', 'e', 'f','h'],columns=['one', 'two', 'three'])\n",
    "df = df.reindex(['a', 'b', 'c', 'd', 'e', 'f', 'g', 'h'])\n",
    "print(df)\n",
    "# define the imputer\n",
    "imr = SimpleImputer(missing_values=np.nan, strategy='mean') # or median\n",
    "df[['one']] = imr.fit_transform(df[['one']])\n",
    "print(df)"
   ]
  },
  {
   "cell_type": "code",
   "execution_count": null,
   "metadata": {},
   "outputs": [],
   "source": []
  }
 ],
 "metadata": {
  "kernelspec": {
   "display_name": "Python 3 (ipykernel)",
   "language": "python",
   "name": "python3"
  },
  "language_info": {
   "codemirror_mode": {
    "name": "ipython",
    "version": 3
   },
   "file_extension": ".py",
   "mimetype": "text/x-python",
   "name": "python",
   "nbconvert_exporter": "python",
   "pygments_lexer": "ipython3",
   "version": "3.8.3"
  }
 },
 "nbformat": 4,
 "nbformat_minor": 4
}
