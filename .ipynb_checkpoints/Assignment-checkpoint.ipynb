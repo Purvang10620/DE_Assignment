{
 "cells": [
  {
   "cell_type": "code",
   "execution_count": 2,
   "id": "176db194",
   "metadata": {},
   "outputs": [
    {
     "name": "stdout",
     "output_type": "stream",
     "text": [
      "   id    name  salary  start_date        dept\n",
      "0   1    Rick  623.30  2012-01-01          IT\n",
      "1   2     Dan  515.20  2013-09-23  Operations\n",
      "2   3   Tusar  611.00  2014-11-15          IT\n",
      "3   4    Ryan  729.00  2014-05-11          HR\n",
      "4   5    Gary  843.25  2015-03-27     Finance\n",
      "5   6   Rasmi  578.00  2013-05-21          IT\n",
      "6   7  Pranab  632.80  2013-07-30  Operations\n",
      "7   8    Guru  722.50  2014-06-17     Finance\n"
     ]
    }
   ],
   "source": [
    "import pandas as pd\n",
    "\n",
    "data=pd.read_csv('dataset.csv')\n",
    "\n",
    "print(data)"
   ]
  },
  {
   "cell_type": "code",
   "execution_count": 3,
   "id": "dd6bbc6f",
   "metadata": {},
   "outputs": [
    {
     "data": {
      "text/html": [
       "<div>\n",
       "<style scoped>\n",
       "    .dataframe tbody tr th:only-of-type {\n",
       "        vertical-align: middle;\n",
       "    }\n",
       "\n",
       "    .dataframe tbody tr th {\n",
       "        vertical-align: top;\n",
       "    }\n",
       "\n",
       "    .dataframe thead th {\n",
       "        text-align: right;\n",
       "    }\n",
       "</style>\n",
       "<table border=\"1\" class=\"dataframe\">\n",
       "  <thead>\n",
       "    <tr style=\"text-align: right;\">\n",
       "      <th></th>\n",
       "      <th>id</th>\n",
       "      <th>name</th>\n",
       "      <th>salary</th>\n",
       "      <th>start_date</th>\n",
       "      <th>dept</th>\n",
       "    </tr>\n",
       "  </thead>\n",
       "  <tbody>\n",
       "    <tr>\n",
       "      <th>0</th>\n",
       "      <td>1</td>\n",
       "      <td>Rick</td>\n",
       "      <td>623.30</td>\n",
       "      <td>2012-01-01</td>\n",
       "      <td>IT</td>\n",
       "    </tr>\n",
       "    <tr>\n",
       "      <th>1</th>\n",
       "      <td>2</td>\n",
       "      <td>Dan</td>\n",
       "      <td>515.20</td>\n",
       "      <td>2013-09-23</td>\n",
       "      <td>Operations</td>\n",
       "    </tr>\n",
       "    <tr>\n",
       "      <th>2</th>\n",
       "      <td>3</td>\n",
       "      <td>Tusar</td>\n",
       "      <td>611.00</td>\n",
       "      <td>2014-11-15</td>\n",
       "      <td>IT</td>\n",
       "    </tr>\n",
       "    <tr>\n",
       "      <th>3</th>\n",
       "      <td>4</td>\n",
       "      <td>Ryan</td>\n",
       "      <td>729.00</td>\n",
       "      <td>2014-05-11</td>\n",
       "      <td>HR</td>\n",
       "    </tr>\n",
       "    <tr>\n",
       "      <th>4</th>\n",
       "      <td>5</td>\n",
       "      <td>Gary</td>\n",
       "      <td>843.25</td>\n",
       "      <td>2015-03-27</td>\n",
       "      <td>Finance</td>\n",
       "    </tr>\n",
       "  </tbody>\n",
       "</table>\n",
       "</div>"
      ],
      "text/plain": [
       "   id   name  salary  start_date        dept\n",
       "0   1   Rick  623.30  2012-01-01          IT\n",
       "1   2    Dan  515.20  2013-09-23  Operations\n",
       "2   3  Tusar  611.00  2014-11-15          IT\n",
       "3   4   Ryan  729.00  2014-05-11          HR\n",
       "4   5   Gary  843.25  2015-03-27     Finance"
      ]
     },
     "execution_count": 3,
     "metadata": {},
     "output_type": "execute_result"
    }
   ],
   "source": [
    "data.head()"
   ]
  },
  {
   "cell_type": "code",
   "execution_count": 4,
   "id": "e4680ce8",
   "metadata": {},
   "outputs": [
    {
     "data": {
      "text/html": [
       "<div>\n",
       "<style scoped>\n",
       "    .dataframe tbody tr th:only-of-type {\n",
       "        vertical-align: middle;\n",
       "    }\n",
       "\n",
       "    .dataframe tbody tr th {\n",
       "        vertical-align: top;\n",
       "    }\n",
       "\n",
       "    .dataframe thead th {\n",
       "        text-align: right;\n",
       "    }\n",
       "</style>\n",
       "<table border=\"1\" class=\"dataframe\">\n",
       "  <thead>\n",
       "    <tr style=\"text-align: right;\">\n",
       "      <th></th>\n",
       "      <th>id</th>\n",
       "      <th>name</th>\n",
       "      <th>salary</th>\n",
       "      <th>start_date</th>\n",
       "      <th>dept</th>\n",
       "    </tr>\n",
       "  </thead>\n",
       "  <tbody>\n",
       "    <tr>\n",
       "      <th>3</th>\n",
       "      <td>4</td>\n",
       "      <td>Ryan</td>\n",
       "      <td>729.00</td>\n",
       "      <td>2014-05-11</td>\n",
       "      <td>HR</td>\n",
       "    </tr>\n",
       "    <tr>\n",
       "      <th>4</th>\n",
       "      <td>5</td>\n",
       "      <td>Gary</td>\n",
       "      <td>843.25</td>\n",
       "      <td>2015-03-27</td>\n",
       "      <td>Finance</td>\n",
       "    </tr>\n",
       "    <tr>\n",
       "      <th>5</th>\n",
       "      <td>6</td>\n",
       "      <td>Rasmi</td>\n",
       "      <td>578.00</td>\n",
       "      <td>2013-05-21</td>\n",
       "      <td>IT</td>\n",
       "    </tr>\n",
       "    <tr>\n",
       "      <th>6</th>\n",
       "      <td>7</td>\n",
       "      <td>Pranab</td>\n",
       "      <td>632.80</td>\n",
       "      <td>2013-07-30</td>\n",
       "      <td>Operations</td>\n",
       "    </tr>\n",
       "    <tr>\n",
       "      <th>7</th>\n",
       "      <td>8</td>\n",
       "      <td>Guru</td>\n",
       "      <td>722.50</td>\n",
       "      <td>2014-06-17</td>\n",
       "      <td>Finance</td>\n",
       "    </tr>\n",
       "  </tbody>\n",
       "</table>\n",
       "</div>"
      ],
      "text/plain": [
       "   id    name  salary  start_date        dept\n",
       "3   4    Ryan  729.00  2014-05-11          HR\n",
       "4   5    Gary  843.25  2015-03-27     Finance\n",
       "5   6   Rasmi  578.00  2013-05-21          IT\n",
       "6   7  Pranab  632.80  2013-07-30  Operations\n",
       "7   8    Guru  722.50  2014-06-17     Finance"
      ]
     },
     "execution_count": 4,
     "metadata": {},
     "output_type": "execute_result"
    }
   ],
   "source": [
    "data.tail()"
   ]
  },
  {
   "cell_type": "code",
   "execution_count": 5,
   "id": "38062352",
   "metadata": {},
   "outputs": [
    {
     "name": "stdout",
     "output_type": "stream",
     "text": [
      "<class 'pandas.core.frame.DataFrame'>\n",
      "RangeIndex: 8 entries, 0 to 7\n",
      "Data columns (total 5 columns):\n",
      " #   Column      Non-Null Count  Dtype  \n",
      "---  ------      --------------  -----  \n",
      " 0   id          8 non-null      int64  \n",
      " 1   name        8 non-null      object \n",
      " 2   salary      8 non-null      float64\n",
      " 3   start_date  8 non-null      object \n",
      " 4   dept        8 non-null      object \n",
      "dtypes: float64(1), int64(1), object(3)\n",
      "memory usage: 288.0+ bytes\n"
     ]
    }
   ],
   "source": [
    "data.info()"
   ]
  },
  {
   "cell_type": "code",
   "execution_count": 6,
   "id": "dc4f35de",
   "metadata": {},
   "outputs": [
    {
     "name": "stdout",
     "output_type": "stream",
     "text": [
      "   id    name  salary  start_date        dept\n",
      "0   1    Rick  623.30  2012-01-01          IT\n",
      "1   2     Dan  515.20  2013-09-23  Operations\n",
      "2   3   Tusar  611.00  2014-11-15          IT\n",
      "3   4    Ryan  729.00  2014-05-11          HR\n",
      "4   5    Gary  843.25  2015-03-27     Finance\n",
      "5   6   Rasmi  578.00  2013-05-21          IT\n",
      "6   7  Pranab  632.80  2013-07-30  Operations\n",
      "7   8    Guru  722.50  2014-06-17     Finance\n"
     ]
    }
   ],
   "source": [
    "print(data)"
   ]
  },
  {
   "cell_type": "code",
   "execution_count": 8,
   "id": "5b279697",
   "metadata": {},
   "outputs": [
    {
     "name": "stdout",
     "output_type": "stream",
     "text": [
      "   id    name  salary  start_date        dept\n",
      "0   1    Rick  623.30  01/01/2012          IT\n",
      "1   2     NaN     NaN         NaN         NaN\n",
      "2   3     Dan  515.20  23/09/2013  Operations\n",
      "3   4   Tusar  611.00  15/11/2014          IT\n",
      "4   5    Ryan  729.00  11/05/2014          HR\n",
      "5   6     NaN     NaN         NaN         NaN\n",
      "6   7    Gary  843.25  27/03/2015     Finance\n",
      "7   8   Rasmi  578.00  21/05/2013          IT\n",
      "8   9  Pranab  632.80  30/07/2013  Operations\n",
      "9  10    Guru  722.50  17/06/2014     Finance\n"
     ]
    }
   ],
   "source": [
    "import pandas as pd\n",
    "\n",
    "data=pd.read_csv('dataset.csv')\n",
    "\n",
    "print(data)"
   ]
  },
  {
   "cell_type": "code",
   "execution_count": 10,
   "id": "87ae99eb",
   "metadata": {},
   "outputs": [
    {
     "data": {
      "text/plain": [
       "(10, 5)"
      ]
     },
     "execution_count": 10,
     "metadata": {},
     "output_type": "execute_result"
    }
   ],
   "source": [
    "data.shape"
   ]
  },
  {
   "cell_type": "code",
   "execution_count": 11,
   "id": "eed431ae",
   "metadata": {},
   "outputs": [
    {
     "data": {
      "text/html": [
       "<div>\n",
       "<style scoped>\n",
       "    .dataframe tbody tr th:only-of-type {\n",
       "        vertical-align: middle;\n",
       "    }\n",
       "\n",
       "    .dataframe tbody tr th {\n",
       "        vertical-align: top;\n",
       "    }\n",
       "\n",
       "    .dataframe thead th {\n",
       "        text-align: right;\n",
       "    }\n",
       "</style>\n",
       "<table border=\"1\" class=\"dataframe\">\n",
       "  <thead>\n",
       "    <tr style=\"text-align: right;\">\n",
       "      <th></th>\n",
       "      <th>id</th>\n",
       "      <th>name</th>\n",
       "      <th>salary</th>\n",
       "      <th>start_date</th>\n",
       "      <th>dept</th>\n",
       "    </tr>\n",
       "  </thead>\n",
       "  <tbody>\n",
       "    <tr>\n",
       "      <th>0</th>\n",
       "      <td>False</td>\n",
       "      <td>False</td>\n",
       "      <td>False</td>\n",
       "      <td>False</td>\n",
       "      <td>False</td>\n",
       "    </tr>\n",
       "    <tr>\n",
       "      <th>1</th>\n",
       "      <td>False</td>\n",
       "      <td>True</td>\n",
       "      <td>True</td>\n",
       "      <td>True</td>\n",
       "      <td>True</td>\n",
       "    </tr>\n",
       "    <tr>\n",
       "      <th>2</th>\n",
       "      <td>False</td>\n",
       "      <td>False</td>\n",
       "      <td>False</td>\n",
       "      <td>False</td>\n",
       "      <td>False</td>\n",
       "    </tr>\n",
       "    <tr>\n",
       "      <th>3</th>\n",
       "      <td>False</td>\n",
       "      <td>False</td>\n",
       "      <td>False</td>\n",
       "      <td>False</td>\n",
       "      <td>False</td>\n",
       "    </tr>\n",
       "    <tr>\n",
       "      <th>4</th>\n",
       "      <td>False</td>\n",
       "      <td>False</td>\n",
       "      <td>False</td>\n",
       "      <td>False</td>\n",
       "      <td>False</td>\n",
       "    </tr>\n",
       "    <tr>\n",
       "      <th>5</th>\n",
       "      <td>False</td>\n",
       "      <td>True</td>\n",
       "      <td>True</td>\n",
       "      <td>True</td>\n",
       "      <td>True</td>\n",
       "    </tr>\n",
       "    <tr>\n",
       "      <th>6</th>\n",
       "      <td>False</td>\n",
       "      <td>False</td>\n",
       "      <td>False</td>\n",
       "      <td>False</td>\n",
       "      <td>False</td>\n",
       "    </tr>\n",
       "    <tr>\n",
       "      <th>7</th>\n",
       "      <td>False</td>\n",
       "      <td>False</td>\n",
       "      <td>False</td>\n",
       "      <td>False</td>\n",
       "      <td>False</td>\n",
       "    </tr>\n",
       "    <tr>\n",
       "      <th>8</th>\n",
       "      <td>False</td>\n",
       "      <td>False</td>\n",
       "      <td>False</td>\n",
       "      <td>False</td>\n",
       "      <td>False</td>\n",
       "    </tr>\n",
       "    <tr>\n",
       "      <th>9</th>\n",
       "      <td>False</td>\n",
       "      <td>False</td>\n",
       "      <td>False</td>\n",
       "      <td>False</td>\n",
       "      <td>False</td>\n",
       "    </tr>\n",
       "  </tbody>\n",
       "</table>\n",
       "</div>"
      ],
      "text/plain": [
       "      id   name  salary  start_date   dept\n",
       "0  False  False   False       False  False\n",
       "1  False   True    True        True   True\n",
       "2  False  False   False       False  False\n",
       "3  False  False   False       False  False\n",
       "4  False  False   False       False  False\n",
       "5  False   True    True        True   True\n",
       "6  False  False   False       False  False\n",
       "7  False  False   False       False  False\n",
       "8  False  False   False       False  False\n",
       "9  False  False   False       False  False"
      ]
     },
     "execution_count": 11,
     "metadata": {},
     "output_type": "execute_result"
    }
   ],
   "source": [
    "data.isnull()"
   ]
  },
  {
   "cell_type": "code",
   "execution_count": 12,
   "id": "b8ca47b0",
   "metadata": {},
   "outputs": [
    {
     "data": {
      "text/html": [
       "<div>\n",
       "<style scoped>\n",
       "    .dataframe tbody tr th:only-of-type {\n",
       "        vertical-align: middle;\n",
       "    }\n",
       "\n",
       "    .dataframe tbody tr th {\n",
       "        vertical-align: top;\n",
       "    }\n",
       "\n",
       "    .dataframe thead th {\n",
       "        text-align: right;\n",
       "    }\n",
       "</style>\n",
       "<table border=\"1\" class=\"dataframe\">\n",
       "  <thead>\n",
       "    <tr style=\"text-align: right;\">\n",
       "      <th></th>\n",
       "      <th>id</th>\n",
       "      <th>name</th>\n",
       "      <th>salary</th>\n",
       "      <th>start_date</th>\n",
       "      <th>dept</th>\n",
       "    </tr>\n",
       "  </thead>\n",
       "  <tbody>\n",
       "    <tr>\n",
       "      <th>0</th>\n",
       "      <td>1</td>\n",
       "      <td>Rick</td>\n",
       "      <td>623.30</td>\n",
       "      <td>01/01/2012</td>\n",
       "      <td>IT</td>\n",
       "    </tr>\n",
       "    <tr>\n",
       "      <th>1</th>\n",
       "      <td>2</td>\n",
       "      <td>Rick</td>\n",
       "      <td>623.30</td>\n",
       "      <td>01/01/2012</td>\n",
       "      <td>IT</td>\n",
       "    </tr>\n",
       "    <tr>\n",
       "      <th>2</th>\n",
       "      <td>3</td>\n",
       "      <td>Dan</td>\n",
       "      <td>515.20</td>\n",
       "      <td>23/09/2013</td>\n",
       "      <td>Operations</td>\n",
       "    </tr>\n",
       "    <tr>\n",
       "      <th>3</th>\n",
       "      <td>4</td>\n",
       "      <td>Tusar</td>\n",
       "      <td>611.00</td>\n",
       "      <td>15/11/2014</td>\n",
       "      <td>IT</td>\n",
       "    </tr>\n",
       "    <tr>\n",
       "      <th>4</th>\n",
       "      <td>5</td>\n",
       "      <td>Ryan</td>\n",
       "      <td>729.00</td>\n",
       "      <td>11/05/2014</td>\n",
       "      <td>HR</td>\n",
       "    </tr>\n",
       "    <tr>\n",
       "      <th>5</th>\n",
       "      <td>6</td>\n",
       "      <td>Ryan</td>\n",
       "      <td>729.00</td>\n",
       "      <td>11/05/2014</td>\n",
       "      <td>HR</td>\n",
       "    </tr>\n",
       "    <tr>\n",
       "      <th>6</th>\n",
       "      <td>7</td>\n",
       "      <td>Gary</td>\n",
       "      <td>843.25</td>\n",
       "      <td>27/03/2015</td>\n",
       "      <td>Finance</td>\n",
       "    </tr>\n",
       "    <tr>\n",
       "      <th>7</th>\n",
       "      <td>8</td>\n",
       "      <td>Rasmi</td>\n",
       "      <td>578.00</td>\n",
       "      <td>21/05/2013</td>\n",
       "      <td>IT</td>\n",
       "    </tr>\n",
       "    <tr>\n",
       "      <th>8</th>\n",
       "      <td>9</td>\n",
       "      <td>Pranab</td>\n",
       "      <td>632.80</td>\n",
       "      <td>30/07/2013</td>\n",
       "      <td>Operations</td>\n",
       "    </tr>\n",
       "    <tr>\n",
       "      <th>9</th>\n",
       "      <td>10</td>\n",
       "      <td>Guru</td>\n",
       "      <td>722.50</td>\n",
       "      <td>17/06/2014</td>\n",
       "      <td>Finance</td>\n",
       "    </tr>\n",
       "  </tbody>\n",
       "</table>\n",
       "</div>"
      ],
      "text/plain": [
       "   id    name  salary  start_date        dept\n",
       "0   1    Rick  623.30  01/01/2012          IT\n",
       "1   2    Rick  623.30  01/01/2012          IT\n",
       "2   3     Dan  515.20  23/09/2013  Operations\n",
       "3   4   Tusar  611.00  15/11/2014          IT\n",
       "4   5    Ryan  729.00  11/05/2014          HR\n",
       "5   6    Ryan  729.00  11/05/2014          HR\n",
       "6   7    Gary  843.25  27/03/2015     Finance\n",
       "7   8   Rasmi  578.00  21/05/2013          IT\n",
       "8   9  Pranab  632.80  30/07/2013  Operations\n",
       "9  10    Guru  722.50  17/06/2014     Finance"
      ]
     },
     "execution_count": 12,
     "metadata": {},
     "output_type": "execute_result"
    }
   ],
   "source": [
    "data.fillna(method='pad')"
   ]
  },
  {
   "cell_type": "code",
   "execution_count": 14,
   "id": "ae3c76fa",
   "metadata": {},
   "outputs": [
    {
     "name": "stdout",
     "output_type": "stream",
     "text": [
      "before drop function\n",
      "   id    name  salary  start_date        dept\n",
      "0   1    Rick  623.30  01/01/2012          IT\n",
      "1   2     NaN     NaN         NaN         NaN\n",
      "2   3     Dan  515.20  23/09/2013  Operations\n",
      "3   4   Tusar  611.00  15/11/2014          IT\n",
      "4   5    Ryan  729.00  11/05/2014          HR\n",
      "5   6     NaN     NaN         NaN         NaN\n",
      "6   7    Gary  843.25  27/03/2015     Finance\n",
      "7   8   Rasmi  578.00  21/05/2013          IT\n",
      "8   9  Pranab  632.80  30/07/2013  Operations\n",
      "9  10    Guru  722.50  17/06/2014     Finance\n",
      "after drop function\n",
      "   id    name  salary  start_date        dept\n",
      "0   1    Rick  623.30  01/01/2012          IT\n",
      "2   3     Dan  515.20  23/09/2013  Operations\n",
      "3   4   Tusar  611.00  15/11/2014          IT\n",
      "4   5    Ryan  729.00  11/05/2014          HR\n",
      "6   7    Gary  843.25  27/03/2015     Finance\n",
      "7   8   Rasmi  578.00  21/05/2013          IT\n",
      "8   9  Pranab  632.80  30/07/2013  Operations\n",
      "9  10    Guru  722.50  17/06/2014     Finance\n"
     ]
    }
   ],
   "source": [
    "import pandas as pd\n",
    "\n",
    "data=pd.read_csv('dataset.csv')\n",
    "print(\"before drop function\")\n",
    "print(data)\n",
    "\n",
    "print(\"after drop function\")\n",
    "data=data.dropna()\n",
    "print(data)"
   ]
  },
  {
   "cell_type": "code",
   "execution_count": 16,
   "id": "4413cb48",
   "metadata": {},
   "outputs": [
    {
     "name": "stdout",
     "output_type": "stream",
     "text": [
      "   id   name  salary  start_date        dept\n",
      "2   3    Dan   515.2  23/09/2013  Operations\n",
      "3   4  Tusar   611.0  15/11/2014          IT\n",
      "4   5   Ryan   729.0  11/05/2014          HR ['name']\n"
     ]
    }
   ],
   "source": [
    "print(data.loc[1:5],['name'])"
   ]
  },
  {
   "cell_type": "code",
   "execution_count": null,
   "id": "177f0a87",
   "metadata": {},
   "outputs": [],
   "source": []
  }
 ],
 "metadata": {
  "kernelspec": {
   "display_name": "Python 3 (ipykernel)",
   "language": "python",
   "name": "python3"
  },
  "language_info": {
   "codemirror_mode": {
    "name": "ipython",
    "version": 3
   },
   "file_extension": ".py",
   "mimetype": "text/x-python",
   "name": "python",
   "nbconvert_exporter": "python",
   "pygments_lexer": "ipython3",
   "version": "3.8.3"
  }
 },
 "nbformat": 4,
 "nbformat_minor": 5
}
